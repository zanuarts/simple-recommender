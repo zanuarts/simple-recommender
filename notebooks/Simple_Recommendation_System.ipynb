{
  "nbformat": 4,
  "nbformat_minor": 0,
  "metadata": {
    "colab": {
      "provenance": [],
      "toc_visible": true
    },
    "kernelspec": {
      "name": "python3",
      "display_name": "Python 3"
    },
    "language_info": {
      "name": "python"
    }
  },
  "cells": [
    {
      "cell_type": "code",
      "source": [
        "!pip install surprise numpy pandas"
      ],
      "metadata": {
        "colab": {
          "base_uri": "https://localhost:8080/"
        },
        "id": "9W9FzSLeS7FU",
        "outputId": "6e32981f-5798-41f3-890a-b9e5682f233a"
      },
      "execution_count": 5,
      "outputs": [
        {
          "output_type": "stream",
          "name": "stdout",
          "text": [
            "Collecting surprise\n",
            "  Downloading surprise-0.1-py2.py3-none-any.whl.metadata (327 bytes)\n",
            "Requirement already satisfied: numpy in /usr/local/lib/python3.10/dist-packages (1.26.4)\n",
            "Requirement already satisfied: pandas in /usr/local/lib/python3.10/dist-packages (2.2.2)\n",
            "Collecting scikit-surprise (from surprise)\n",
            "  Downloading scikit_surprise-1.1.4.tar.gz (154 kB)\n",
            "\u001b[?25l     \u001b[90m━━━━━━━━━━━━━━━━━━━━━━━━━━━━━━━━━━━━━━━━\u001b[0m \u001b[32m0.0/154.4 kB\u001b[0m \u001b[31m?\u001b[0m eta \u001b[36m-:--:--\u001b[0m\r\u001b[2K     \u001b[90m━━━━━━━━━━━━━━━━━━━━━━━━━━━━━━━━━━━━━━━━\u001b[0m \u001b[32m154.4/154.4 kB\u001b[0m \u001b[31m8.9 MB/s\u001b[0m eta \u001b[36m0:00:00\u001b[0m\n",
            "\u001b[?25h  Installing build dependencies ... \u001b[?25l\u001b[?25hdone\n",
            "  Getting requirements to build wheel ... \u001b[?25l\u001b[?25hdone\n",
            "  Preparing metadata (pyproject.toml) ... \u001b[?25l\u001b[?25hdone\n",
            "Requirement already satisfied: python-dateutil>=2.8.2 in /usr/local/lib/python3.10/dist-packages (from pandas) (2.8.2)\n",
            "Requirement already satisfied: pytz>=2020.1 in /usr/local/lib/python3.10/dist-packages (from pandas) (2024.2)\n",
            "Requirement already satisfied: tzdata>=2022.7 in /usr/local/lib/python3.10/dist-packages (from pandas) (2024.2)\n",
            "Requirement already satisfied: six>=1.5 in /usr/local/lib/python3.10/dist-packages (from python-dateutil>=2.8.2->pandas) (1.17.0)\n",
            "Requirement already satisfied: joblib>=1.2.0 in /usr/local/lib/python3.10/dist-packages (from scikit-surprise->surprise) (1.4.2)\n",
            "Requirement already satisfied: scipy>=1.6.0 in /usr/local/lib/python3.10/dist-packages (from scikit-surprise->surprise) (1.13.1)\n",
            "Downloading surprise-0.1-py2.py3-none-any.whl (1.8 kB)\n",
            "Building wheels for collected packages: scikit-surprise\n",
            "  Building wheel for scikit-surprise (pyproject.toml) ... \u001b[?25l\u001b[?25hdone\n",
            "  Created wheel for scikit-surprise: filename=scikit_surprise-1.1.4-cp310-cp310-linux_x86_64.whl size=2357275 sha256=58f707c14970cd77f8bbbccc04e9a23a95f4143c07b8e249bd02fc0dc931f60b\n",
            "  Stored in directory: /root/.cache/pip/wheels/4b/3f/df/6acbf0a40397d9bf3ff97f582cc22fb9ce66adde75bc71fd54\n",
            "Successfully built scikit-surprise\n",
            "Installing collected packages: scikit-surprise, surprise\n",
            "Successfully installed scikit-surprise-1.1.4 surprise-0.1\n"
          ]
        }
      ]
    },
    {
      "cell_type": "markdown",
      "source": [
        "## Simple Collaborative Filtering"
      ],
      "metadata": {
        "id": "cp7eSmo7ncAy"
      }
    },
    {
      "cell_type": "code",
      "source": [
        "import pandas as pd\n",
        "from surprise import Dataset, Reader, SVD, accuracy\n",
        "from surprise.model_selection import train_test_split\n",
        "\n",
        "# Load MovieLens 100K dataset\n",
        "url = 'http://files.grouplens.org/datasets/movielens/ml-100k/u.data'\n",
        "col_names = ['userId', 'movieId', 'rating', 'timestamp']\n",
        "data = pd.read_csv(url, sep='\\t', names=col_names, header=None)\n",
        "\n",
        "# Load MovieLens movie titles\n",
        "movies_url = 'http://files.grouplens.org/datasets/movielens/ml-100k/u.item'\n",
        "movies_columns = [\n",
        "    'movieId', 'movieTitle', 'releaseDate', 'videoReleaseDate', 'IMDbURL',\n",
        "    'unknown', 'Action', 'Adventure', 'Animation', 'Children', 'Comedy',\n",
        "    'Crime', 'Documentary', 'Drama', 'Fantasy', 'FilmNoir', 'Horror',\n",
        "    'Musical', 'Mystery', 'Romance', 'SciFi', 'Thriller', 'War', 'Western'\n",
        "]\n",
        "movies = pd.read_csv(movies_url, sep='|', names=movies_columns, encoding='latin-1')\n",
        "\n",
        "# Define the rating scale\n",
        "reader = Reader(rating_scale=(1, 5))\n",
        "\n",
        "# Load the data into Surprise's Dataset format\n",
        "dataset = Dataset.load_from_df(data[['userId', 'movieId', 'rating']], reader)\n",
        "\n",
        "# Split the data into training and testing sets\n",
        "trainset, testset = train_test_split(dataset, test_size=0.2)\n",
        "\n",
        "# Initialize the SVD algorithm\n",
        "svd = SVD()\n",
        "\n",
        "# Train the model\n",
        "svd.fit(trainset)\n",
        "\n",
        "# Make predictions on the test set\n",
        "predictions = svd.test(testset)\n",
        "\n",
        "# Evaluate the model using RMSE\n",
        "rmse = accuracy.rmse(predictions)\n",
        "print(f\"RMSE: {rmse:.4f}\")\n",
        "\n",
        "# Get top N recommendations for each user\n",
        "def get_top_n_recommendations(predictions, n=10):\n",
        "    top_n = {}\n",
        "    for uid, iid, true_r, est, _ in predictions:\n",
        "        if uid not in top_n:\n",
        "            top_n[uid] = []\n",
        "        top_n[uid].append((iid, est))\n",
        "\n",
        "    for uid, user_ratings in top_n.items():\n",
        "        user_ratings.sort(key=lambda x: x[1], reverse=True)\n",
        "        top_n[uid] = user_ratings[:n]\n",
        "\n",
        "    return top_n\n",
        "\n",
        "top_n = get_top_n_recommendations(predictions, n=10)\n",
        "\n",
        "# Map movie ID to movie titles\n",
        "movie_titles = {row['movieId']: row['movieTitle'] for _, row in movies.iterrows()}\n",
        "\n",
        "# Display top 10 recommendations for user 1 with movie titles\n",
        "print(\"Top 10 recommendations for user 1 with titles:\")\n",
        "for movie_id, rating in top_n[1]:\n",
        "    movie_title = movie_titles.get(movie_id, \"Unknown Movie\")\n",
        "    print(f\"{movie_title}: Predicted Rating = {rating:.2f}\")\n"
      ],
      "metadata": {
        "colab": {
          "base_uri": "https://localhost:8080/"
        },
        "id": "OfO5aJi2Zew_",
        "outputId": "940b7e9e-2ccb-455e-fed2-57f684f91cbf"
      },
      "execution_count": 34,
      "outputs": [
        {
          "output_type": "stream",
          "name": "stdout",
          "text": [
            "RMSE: 0.9297\n",
            "RMSE: 0.9297\n",
            "Top 10 recommendations for user 1 with titles:\n",
            "Usual Suspects, The (1995): Predicted Rating = 4.78\n",
            "Pulp Fiction (1994): Predicted Rating = 4.68\n",
            "Wrong Trousers, The (1993): Predicted Rating = 4.61\n",
            "Mr. Smith Goes to Washington (1939): Predicted Rating = 4.35\n",
            "Postino, Il (1994): Predicted Rating = 4.29\n",
            "Raising Arizona (1987): Predicted Rating = 4.27\n",
            "Graduate, The (1967): Predicted Rating = 4.26\n",
            "Bound (1996): Predicted Rating = 4.25\n",
            "Three Colors: Red (1994): Predicted Rating = 4.22\n",
            "Jean de Florette (1986): Predicted Rating = 4.18\n"
          ]
        }
      ]
    },
    {
      "cell_type": "markdown",
      "source": [
        "## Simple Content Based Filtering"
      ],
      "metadata": {
        "id": "UWFAN-U5nfOX"
      }
    },
    {
      "cell_type": "code",
      "source": [
        "import pandas as pd\n",
        "from sklearn.metrics.pairwise import cosine_similarity\n",
        "import numpy as np\n",
        "\n",
        "# Load movie data (movieId, movieTitle, genres)\n",
        "url = 'http://files.grouplens.org/datasets/movielens/ml-100k/u.item'\n",
        "col_names = ['movieId', 'movieTitle', 'releaseDate', 'videoReleaseDate', 'IMDbURL',\n",
        "             'unknown', 'Action', 'Adventure', 'Animation', 'Children', 'Comedy',\n",
        "             'Crime', 'Documentary', 'Drama', 'Fantasy', 'FilmNoir', 'Horror',\n",
        "             'Musical', 'Mystery', 'Romance', 'SciFi', 'Thriller', 'War', 'Western']\n",
        "\n",
        "# Load data\n",
        "movie_data = pd.read_csv(url, sep='|', encoding='latin-1', names=col_names, header=None)\n",
        "\n",
        "# Keep only relevant columns (movieId, movieTitle, and genres)\n",
        "movie_data = movie_data[['movieId', 'movieTitle'] + col_names[5:]]  # Columns from 'unknown' to 'Western'\n",
        "\n",
        "# Display the first few rows\n",
        "print(movie_data.head())\n",
        "\n",
        "# Now, create a movie profile using the genre columns\n",
        "# We will use the genres as features (binary values indicating genre presence)\n",
        "\n",
        "# We already have binary genre columns, so we can use these as is for similarity calculation\n",
        "\n",
        "# Create a genre matrix (Movies x Genres)\n",
        "genre_matrix = movie_data.drop(columns=['movieId', 'movieTitle'])\n",
        "\n",
        "# 3. Compute Cosine Similarity between movies\n",
        "cosine_sim = cosine_similarity(genre_matrix)\n",
        "\n",
        "# We now have a matrix where each element (i, j) represents the similarity between movie i and movie j\n",
        "\n",
        "# 4. Recommend similar movies\n",
        "\n",
        "def get_similar_movies(movie_title, cosine_sim=cosine_sim):\n",
        "    # Get the index of the movie that matches the title\n",
        "    idx = movie_data.index[movie_data['movieTitle'] == movie_title].tolist()[0]\n",
        "\n",
        "    # Get pairwise similarity scores for the given movie\n",
        "    sim_scores = list(enumerate(cosine_sim[idx]))\n",
        "\n",
        "    # Sort the movies based on similarity scores (highest to lowest)\n",
        "    sim_scores = sorted(sim_scores, key=lambda x: x[1], reverse=True)\n",
        "\n",
        "    # Get the indices of the most similar movies (excluding the movie itself)\n",
        "    sim_scores = sim_scores[1:11]  # Top 10 recommendations, excluding itself\n",
        "    movie_indices = [i[0] for i in sim_scores]\n",
        "\n",
        "    # Get the movie titles of the most similar movies\n",
        "    recommended_movies = movie_data['movieTitle'].iloc[movie_indices]\n",
        "\n",
        "    return recommended_movies\n",
        "\n",
        "# Example: Get movies similar to \"Toy Story (1995)\"\n",
        "recommended_movies = get_similar_movies('Toy Story (1995)')\n",
        "print(\"Movies similar to Toy Story (1995):\")\n",
        "for movie in recommended_movies:\n",
        "    print(movie)\n"
      ],
      "metadata": {
        "colab": {
          "base_uri": "https://localhost:8080/"
        },
        "id": "J6sW5CfLnC57",
        "outputId": "8bce3e74-20bd-41b9-fe8f-7524b0023bac"
      },
      "execution_count": 33,
      "outputs": [
        {
          "output_type": "stream",
          "name": "stdout",
          "text": [
            "   movieId         movieTitle  unknown  Action  Adventure  Animation  \\\n",
            "0        1   Toy Story (1995)        0       0          0          1   \n",
            "1        2   GoldenEye (1995)        0       1          1          0   \n",
            "2        3  Four Rooms (1995)        0       0          0          0   \n",
            "3        4  Get Shorty (1995)        0       1          0          0   \n",
            "4        5     Copycat (1995)        0       0          0          0   \n",
            "\n",
            "   Children  Comedy  Crime  Documentary  ...  Fantasy  FilmNoir  Horror  \\\n",
            "0         1       1      0            0  ...        0         0       0   \n",
            "1         0       0      0            0  ...        0         0       0   \n",
            "2         0       0      0            0  ...        0         0       0   \n",
            "3         0       1      0            0  ...        0         0       0   \n",
            "4         0       0      1            0  ...        0         0       0   \n",
            "\n",
            "   Musical  Mystery  Romance  SciFi  Thriller  War  Western  \n",
            "0        0        0        0      0         0    0        0  \n",
            "1        0        0        0      0         1    0        0  \n",
            "2        0        0        0      0         1    0        0  \n",
            "3        0        0        0      0         0    0        0  \n",
            "4        0        0        0      0         1    0        0  \n",
            "\n",
            "[5 rows x 21 columns]\n",
            "Movies similar to Toy Story (1995):\n",
            "Aladdin and the King of Thieves (1996)\n",
            "Aladdin (1992)\n",
            "Goofy Movie, A (1995)\n",
            "Santa Clause, The (1994)\n",
            "Home Alone (1990)\n",
            "Aristocats, The (1970)\n",
            "D3: The Mighty Ducks (1996)\n",
            "Love Bug, The (1969)\n",
            "Wrong Trousers, The (1993)\n",
            "Grand Day Out, A (1992)\n"
          ]
        }
      ]
    }
  ]
}